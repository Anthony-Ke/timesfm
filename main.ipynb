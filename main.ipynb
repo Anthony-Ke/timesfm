{
 "cells": [
  {
   "cell_type": "code",
   "execution_count": null,
   "id": "39efba74",
   "metadata": {},
   "outputs": [],
   "source": [
    "import src.timesfm as timesfm\n",
    "import numpy as np\n",
    "\n",
    "tfm = timesfm.TimesFm(\n",
    "    context_len=96,\n",
    "    horizon_len=32,\n",
    "    input_patch_len=32,\n",
    "    output_patch_len=128,\n",
    "    num_layers=20,\n",
    "    model_dims=1280,\n",
    "    backend= \"gpu\",\n",
    ")\n",
    "tfm.load_from_checkpoint(repo_id=\"google/timesfm-1.0-200m\")\n",
    "\n",
    "\n",
    "forecast_input = [\n",
    "    np.sin(np.linspace(0, 20, 100)),\n",
    "    np.sin(np.linspace(0, 20, 200)),\n",
    "    np.sin(np.linspace(0, 20, 400)),\n",
    "]\n",
    "frequency_input = [0, 1, 2]\n",
    "\n",
    "point_forecast, experimental_quantile_forecast = tfm.forecast(\n",
    "    forecast_input,\n",
    "    freq=frequency_input,\n",
    ")\n",
    "\n",
    "print(point_forecast)\n",
    "print(experimental_quantile_forecast)"
   ]
  }
 ],
 "metadata": {
  "kernelspec": {
   "display_name": "Python 3 (ipykernel)",
   "language": "python",
   "name": "python3"
  },
  "language_info": {
   "codemirror_mode": {
    "name": "ipython",
    "version": 3
   },
   "file_extension": ".py",
   "mimetype": "text/x-python",
   "name": "python",
   "nbconvert_exporter": "python",
   "pygments_lexer": "ipython3",
   "version": "3.11.5"
  }
 },
 "nbformat": 4,
 "nbformat_minor": 5
}
